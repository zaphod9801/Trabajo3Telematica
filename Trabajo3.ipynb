{
  "nbformat": 4,
  "nbformat_minor": 0,
  "metadata": {
    "colab": {
      "name": "Untitled0.ipynb",
      "provenance": [],
      "collapsed_sections": [],
      "authorship_tag": "ABX9TyO2jzvAfUGczhsG0hmN1rKU",
      "include_colab_link": true
    },
    "kernelspec": {
      "name": "python3",
      "display_name": "Python 3"
    },
    "language_info": {
      "name": "python"
    }
  },
  "cells": [
    {
      "cell_type": "markdown",
      "metadata": {
        "id": "view-in-github",
        "colab_type": "text"
      },
      "source": [
        "<a href=\"https://colab.research.google.com/github/zaphod9801/Trabajo3Telematica/blob/main/Trabajo3.ipynb\" target=\"_parent\"><img src=\"https://colab.research.google.com/assets/colab-badge.svg\" alt=\"Open In Colab\"/></a>"
      ]
    },
    {
      "cell_type": "code",
      "execution_count": 1,
      "metadata": {
        "colab": {
          "base_uri": "https://localhost:8080/"
        },
        "id": "z6ln2q5liBuD",
        "outputId": "48d37630-9f45-4241-b4af-791d8e65ffe9"
      },
      "outputs": [
        {
          "output_type": "stream",
          "name": "stdout",
          "text": [
            "Mounted at /content/gdrive\n"
          ]
        }
      ],
      "source": [
        "#configuración en google colab de spark y pyspark\n",
        "from google.colab import drive\n",
        "drive.mount('/content/gdrive')"
      ]
    },
    {
      "cell_type": "code",
      "source": [
        "#instalar java y spark\n",
        "!apt-get install openjdk-8-jdk-headless -qq > /dev/null\n",
        "!wget -q https://downloads.apache.org/spark/spark-3.2.1/spark-3.2.1-bin-hadoop3.2.tgz\n",
        "!tar xf spark-3.2.1-bin-hadoop3.2.tgz\n",
        "!pip install -q findspark"
      ],
      "metadata": {
        "id": "5WXJOpyzjK8v"
      },
      "execution_count": 2,
      "outputs": []
    },
    {
      "cell_type": "code",
      "source": [
        "import os\n",
        "os.environ[\"JAVA_HOME\"] = \"/usr/lib/jvm/java-8-openjdk-amd64\"\n",
        "os.environ[\"SPARK_HOME\"] = \"/content/spark-3.2.1-bin-hadoop3.2\""
      ],
      "metadata": {
        "id": "8bpo2436jMyn"
      },
      "execution_count": 3,
      "outputs": []
    },
    {
      "cell_type": "code",
      "source": [
        "import findspark\n",
        "findspark.init()\n",
        "from pyspark.sql import SparkSession\n",
        "spark = SparkSession.builder.master(\"local[*]\").getOrCreate()\n",
        "sc = spark.sparkContext"
      ],
      "metadata": {
        "id": "s1-P6hjxjSFz"
      },
      "execution_count": 4,
      "outputs": []
    },
    {
      "cell_type": "code",
      "source": [
        "spark"
      ],
      "metadata": {
        "colab": {
          "base_uri": "https://localhost:8080/",
          "height": 222
        },
        "id": "WVQqEuZ5jozX",
        "outputId": "5d222c72-313e-4f95-e0fd-d2f25ae245dc"
      },
      "execution_count": 5,
      "outputs": [
        {
          "output_type": "execute_result",
          "data": {
            "text/plain": [
              "<pyspark.sql.session.SparkSession at 0x7f55b1fd6190>"
            ],
            "text/html": [
              "\n",
              "            <div>\n",
              "                <p><b>SparkSession - in-memory</b></p>\n",
              "                \n",
              "        <div>\n",
              "            <p><b>SparkContext</b></p>\n",
              "\n",
              "            <p><a href=\"http://f367f51ded28:4040\">Spark UI</a></p>\n",
              "\n",
              "            <dl>\n",
              "              <dt>Version</dt>\n",
              "                <dd><code>v3.2.1</code></dd>\n",
              "              <dt>Master</dt>\n",
              "                <dd><code>local[*]</code></dd>\n",
              "              <dt>AppName</dt>\n",
              "                <dd><code>pyspark-shell</code></dd>\n",
              "            </dl>\n",
              "        </div>\n",
              "        \n",
              "            </div>\n",
              "        "
            ]
          },
          "metadata": {},
          "execution_count": 5
        }
      ]
    },
    {
      "cell_type": "code",
      "source": [
        "sc"
      ],
      "metadata": {
        "colab": {
          "base_uri": "https://localhost:8080/",
          "height": 198
        },
        "id": "HX_q7a7QjsWL",
        "outputId": "c0aa6e5f-7a43-44c8-e6f3-059eef62230b"
      },
      "execution_count": 6,
      "outputs": [
        {
          "output_type": "execute_result",
          "data": {
            "text/plain": [
              "<SparkContext master=local[*] appName=pyspark-shell>"
            ],
            "text/html": [
              "\n",
              "        <div>\n",
              "            <p><b>SparkContext</b></p>\n",
              "\n",
              "            <p><a href=\"http://f367f51ded28:4040\">Spark UI</a></p>\n",
              "\n",
              "            <dl>\n",
              "              <dt>Version</dt>\n",
              "                <dd><code>v3.2.1</code></dd>\n",
              "              <dt>Master</dt>\n",
              "                <dd><code>local[*]</code></dd>\n",
              "              <dt>AppName</dt>\n",
              "                <dd><code>pyspark-shell</code></dd>\n",
              "            </dl>\n",
              "        </div>\n",
              "        "
            ]
          },
          "metadata": {},
          "execution_count": 6
        }
      ]
    },
    {
      "cell_type": "code",
      "source": [
        "\n",
        "# Load csv Dataset \n",
        "#\n",
        "# desde los datos ejemplo que trae google colab:\n",
        "#\n",
        "# df=spark.read.csv('sample_data/california_housing_test.csv',inferSchema=True,header=True)\n",
        "#\n",
        "# desde su carpeta del trabajo3 en google drive\n",
        "#\n",
        "df=spark.read.csv('gdrive/MyDrive/st0263trabajo3/Casos_positivos_de_COVID-19_en_Colombia.csv',inferSchema=True,header=True)\n",
        "#\n",
        "# desde S3\n",
        "#\n",
        "# df=spark.read.csv('s3://bucket_name/datasets/sample_data.csv',inferSchema=True,header=True)"
      ],
      "metadata": {
        "id": "Del6_QHkjviZ"
      },
      "execution_count": 7,
      "outputs": []
    },
    {
      "cell_type": "code",
      "source": [
        "df.columns"
      ],
      "metadata": {
        "colab": {
          "base_uri": "https://localhost:8080/"
        },
        "id": "b0lGwLGwkf3X",
        "outputId": "494c08b0-6a41-4c44-b3e7-9a398cef1d99"
      },
      "execution_count": 11,
      "outputs": [
        {
          "output_type": "execute_result",
          "data": {
            "text/plain": [
              "['fecha reporte web',\n",
              " 'ID de caso',\n",
              " 'Fecha de notificación',\n",
              " 'Código DIVIPOLA departamento',\n",
              " 'Nombre departamento',\n",
              " 'Código DIVIPOLA municipio',\n",
              " 'Nombre municipio',\n",
              " 'Edad',\n",
              " 'Unidad de medida de edad',\n",
              " 'Sexo',\n",
              " 'Tipo de contagio',\n",
              " 'Ubicación del caso',\n",
              " 'Estado',\n",
              " 'Código ISO del país',\n",
              " 'Nombre del país',\n",
              " 'Recuperado',\n",
              " 'Fecha de inicio de síntomas',\n",
              " 'Fecha de muerte',\n",
              " 'Fecha de diagnóstico',\n",
              " 'Fecha de recuperación',\n",
              " 'Tipo de recuperación',\n",
              " 'Pertenencia étnica',\n",
              " 'Nombre del grupo étnico']"
            ]
          },
          "metadata": {},
          "execution_count": 11
        }
      ]
    },
    {
      "cell_type": "code",
      "source": [
        "df.printSchema()"
      ],
      "metadata": {
        "colab": {
          "base_uri": "https://localhost:8080/"
        },
        "id": "IYv16Gu5mFlU",
        "outputId": "a00298e7-71b4-4923-f8ed-395ce332c10c"
      },
      "execution_count": 9,
      "outputs": [
        {
          "output_type": "stream",
          "name": "stdout",
          "text": [
            "root\n",
            " |-- fecha reporte web: string (nullable = true)\n",
            " |-- ID de caso: integer (nullable = true)\n",
            " |-- Fecha de notificación: string (nullable = true)\n",
            " |-- Código DIVIPOLA departamento: integer (nullable = true)\n",
            " |-- Nombre departamento: string (nullable = true)\n",
            " |-- Código DIVIPOLA municipio: integer (nullable = true)\n",
            " |-- Nombre municipio: string (nullable = true)\n",
            " |-- Edad: integer (nullable = true)\n",
            " |-- Unidad de medida de edad: integer (nullable = true)\n",
            " |-- Sexo: string (nullable = true)\n",
            " |-- Tipo de contagio: string (nullable = true)\n",
            " |-- Ubicación del caso: string (nullable = true)\n",
            " |-- Estado: string (nullable = true)\n",
            " |-- Código ISO del país: integer (nullable = true)\n",
            " |-- Nombre del país: string (nullable = true)\n",
            " |-- Recuperado: string (nullable = true)\n",
            " |-- Fecha de inicio de síntomas: string (nullable = true)\n",
            " |-- Fecha de muerte: string (nullable = true)\n",
            " |-- Fecha de diagnóstico: string (nullable = true)\n",
            " |-- Fecha de recuperación: string (nullable = true)\n",
            " |-- Tipo de recuperación: string (nullable = true)\n",
            " |-- Pertenencia étnica: integer (nullable = true)\n",
            " |-- Nombre del grupo étnico: string (nullable = true)\n",
            "\n"
          ]
        }
      ]
    },
    {
      "cell_type": "code",
      "source": [
        "df.select('ID de caso','Nombre municipio','Edad','Sexo').show(10)"
      ],
      "metadata": {
        "colab": {
          "base_uri": "https://localhost:8080/"
        },
        "id": "FwdATD4CmyfV",
        "outputId": "0e114e5c-74c1-4285-dcf9-e7bf45f7cf54"
      },
      "execution_count": 14,
      "outputs": [
        {
          "output_type": "stream",
          "name": "stdout",
          "text": [
            "+----------+----------------+----+----+\n",
            "|ID de caso|Nombre municipio|Edad|Sexo|\n",
            "+----------+----------------+----+----+\n",
            "|   2265685|          BOGOTA|  49|   M|\n",
            "|   2265686|          BOGOTA|  49|   M|\n",
            "|   2265687|          BOGOTA|  51|   F|\n",
            "|   2265688|          BOGOTA|  51|   F|\n",
            "|   2265689|          BOGOTA|  51|   F|\n",
            "|   2265690|          BOGOTA|  52|   F|\n",
            "|   1851419|          CUMBAL|  24|   M|\n",
            "|   1851420|          CUMBAL|  24|   M|\n",
            "|   1851421|       GUACHUCAL|  33|   M|\n",
            "|   1851422|         LA CRUZ|  35|   F|\n",
            "+----------+----------------+----+----+\n",
            "only showing top 10 rows\n",
            "\n"
          ]
        }
      ]
    },
    {
      "cell_type": "code",
      "source": [
        "\n",
        "df.withColumnRenamed(\"Nombre del grupo étnico\",\"Nombre etnia\").printSchema()"
      ],
      "metadata": {
        "colab": {
          "base_uri": "https://localhost:8080/"
        },
        "id": "_zSlIbd1n6CJ",
        "outputId": "a3b5aef6-0367-4734-f7a9-ec5d77b56fb4"
      },
      "execution_count": 15,
      "outputs": [
        {
          "output_type": "stream",
          "name": "stdout",
          "text": [
            "root\n",
            " |-- fecha reporte web: string (nullable = true)\n",
            " |-- ID de caso: integer (nullable = true)\n",
            " |-- Fecha de notificación: string (nullable = true)\n",
            " |-- Código DIVIPOLA departamento: integer (nullable = true)\n",
            " |-- Nombre departamento: string (nullable = true)\n",
            " |-- Código DIVIPOLA municipio: integer (nullable = true)\n",
            " |-- Nombre municipio: string (nullable = true)\n",
            " |-- Edad: integer (nullable = true)\n",
            " |-- Unidad de medida de edad: integer (nullable = true)\n",
            " |-- Sexo: string (nullable = true)\n",
            " |-- Tipo de contagio: string (nullable = true)\n",
            " |-- Ubicación del caso: string (nullable = true)\n",
            " |-- Estado: string (nullable = true)\n",
            " |-- Código ISO del país: integer (nullable = true)\n",
            " |-- Nombre del país: string (nullable = true)\n",
            " |-- Recuperado: string (nullable = true)\n",
            " |-- Fecha de inicio de síntomas: string (nullable = true)\n",
            " |-- Fecha de muerte: string (nullable = true)\n",
            " |-- Fecha de diagnóstico: string (nullable = true)\n",
            " |-- Fecha de recuperación: string (nullable = true)\n",
            " |-- Tipo de recuperación: string (nullable = true)\n",
            " |-- Pertenencia étnica: integer (nullable = true)\n",
            " |-- Nombre etnia: string (nullable = true)\n",
            "\n"
          ]
        }
      ]
    },
    {
      "cell_type": "code",
      "source": [
        "from pyspark.sql.functions import lit\n",
        "df.withColumn(\"newColumn\", lit(\"this is a value\")).show(10)"
      ],
      "metadata": {
        "colab": {
          "base_uri": "https://localhost:8080/"
        },
        "id": "jaqiB4ByoEIB",
        "outputId": "a04fe3c7-e6f2-4e1d-8640-84122be543e9"
      },
      "execution_count": 17,
      "outputs": [
        {
          "output_type": "stream",
          "name": "stdout",
          "text": [
            "+-------------------+----------+---------------------+----------------------------+-------------------+-------------------------+----------------+----+------------------------+----+----------------+------------------+------+-------------------+---------------+----------+---------------------------+---------------+--------------------+---------------------+--------------------+------------------+-----------------------+---------------+\n",
            "|  fecha reporte web|ID de caso|Fecha de notificación|Código DIVIPOLA departamento|Nombre departamento|Código DIVIPOLA municipio|Nombre municipio|Edad|Unidad de medida de edad|Sexo|Tipo de contagio|Ubicación del caso|Estado|Código ISO del país|Nombre del país|Recuperado|Fecha de inicio de síntomas|Fecha de muerte|Fecha de diagnóstico|Fecha de recuperación|Tipo de recuperación|Pertenencia étnica|Nombre del grupo étnico|      newColumn|\n",
            "+-------------------+----------+---------------------+----------------------------+-------------------+-------------------------+----------------+----+------------------------+----+----------------+------------------+------+-------------------+---------------+----------+---------------------------+---------------+--------------------+---------------------+--------------------+------------------+-----------------------+---------------+\n",
            "|2021-03-04 00:00:00|   2265685|  2021-03-02 00:00:00|                          11|             BOGOTA|                    11001|          BOGOTA|  49|                       1|   M|     Comunitaria|              Casa|  Leve|               null|           null|Recuperado|        2021-02-25 00:00:00|           null| 2021-03-03 00:00:00|  2021-03-16 00:00:00|              Tiempo|                 6|                   null|this is a value|\n",
            "|2021-03-04 00:00:00|   2265686|  2021-03-02 00:00:00|                          11|             BOGOTA|                    11001|          BOGOTA|  49|                       1|   M|     Relacionado|              Casa|  Leve|               null|           null|Recuperado|        2021-02-23 00:00:00|           null| 2021-03-03 00:00:00|  2021-03-16 00:00:00|              Tiempo|                 6|                   null|this is a value|\n",
            "|2021-03-04 00:00:00|   2265687|  2021-03-02 00:00:00|                          11|             BOGOTA|                    11001|          BOGOTA|  51|                       1|   F|     Comunitaria|              Casa|  Leve|               null|           null|Recuperado|        2021-02-24 00:00:00|           null| 2021-03-03 00:00:00|  2021-03-16 00:00:00|              Tiempo|                 6|                   null|this is a value|\n",
            "|2021-03-04 00:00:00|   2265688|  2021-03-02 00:00:00|                          11|             BOGOTA|                    11001|          BOGOTA|  51|                       1|   F|     Relacionado|              Casa|  Leve|               null|           null|Recuperado|        2021-02-27 00:00:00|           null| 2021-03-03 00:00:00|  2021-03-13 00:00:00|              Tiempo|                 6|                   null|this is a value|\n",
            "|2021-03-04 00:00:00|   2265689|  2021-03-02 00:00:00|                          11|             BOGOTA|                    11001|          BOGOTA|  51|                       1|   F|     Comunitaria|              Casa|  Leve|               null|           null|Recuperado|        2021-03-01 00:00:00|           null| 2021-03-03 00:00:00|  2021-03-16 00:00:00|              Tiempo|                 6|                   null|this is a value|\n",
            "|2021-03-04 00:00:00|   2265690|  2021-03-02 00:00:00|                          11|             BOGOTA|                    11001|          BOGOTA|  52|                       1|   F|     Relacionado|              Casa|  Leve|               null|           null|Recuperado|        2021-02-26 00:00:00|           null| 2021-03-03 00:00:00|  2021-03-16 00:00:00|              Tiempo|                 6|                   null|this is a value|\n",
            "|2021-01-15 00:00:00|   1851419|  2021-01-12 00:00:00|                          52|             NARIÑO|                    52227|          CUMBAL|  24|                       1|   M|     Relacionado|              Casa|  Leve|               null|           null|Recuperado|        2021-01-08 00:00:00|           null| 2021-01-14 00:00:00|  2021-01-26 00:00:00|              Tiempo|                 1|                  PASTO|this is a value|\n",
            "|2021-01-15 00:00:00|   1851420|  2021-01-11 00:00:00|                          52|             NARIÑO|                    52227|          CUMBAL|  24|                       1|   M|     Comunitaria|              Casa|  Leve|               null|           null|Recuperado|        2021-01-08 00:00:00|           null| 2021-01-13 00:00:00|  2021-01-26 00:00:00|              Tiempo|                 1|            Por definir|this is a value|\n",
            "|2021-01-15 00:00:00|   1851421|  2021-01-12 00:00:00|                          52|             NARIÑO|                    52317|       GUACHUCAL|  33|                       1|   M|     Relacionado|              Casa|  Leve|               null|           null|Recuperado|        2021-01-08 00:00:00|           null| 2021-01-13 00:00:00|  2021-01-26 00:00:00|              Tiempo|                 1|            Por definir|this is a value|\n",
            "|2021-01-15 00:00:00|   1851422|  2021-01-12 00:00:00|                          52|             NARIÑO|                    52378|         LA CRUZ|  35|                       1|   F|     Comunitaria|              Casa|  Leve|               null|           null|Recuperado|        2021-01-08 00:00:00|           null| 2021-01-12 00:00:00|  2021-01-26 00:00:00|              Tiempo|                 6|                   null|this is a value|\n",
            "+-------------------+----------+---------------------+----------------------------+-------------------+-------------------------+----------------+----+------------------------+----+----------------+------------------+------+-------------------+---------------+----------+---------------------------+---------------+--------------------+---------------------+--------------------+------------------+-----------------------+---------------+\n",
            "only showing top 10 rows\n",
            "\n"
          ]
        }
      ]
    },
    {
      "cell_type": "code",
      "source": [
        "df.drop(\"newColumn\").printSchema()"
      ],
      "metadata": {
        "colab": {
          "base_uri": "https://localhost:8080/"
        },
        "id": "ZdiwTK7BolPJ",
        "outputId": "d0e95ffa-cdeb-4bd1-ba1c-33329c449b75"
      },
      "execution_count": 19,
      "outputs": [
        {
          "output_type": "stream",
          "name": "stdout",
          "text": [
            "root\n",
            " |-- fecha reporte web: string (nullable = true)\n",
            " |-- ID de caso: integer (nullable = true)\n",
            " |-- Fecha de notificación: string (nullable = true)\n",
            " |-- Código DIVIPOLA departamento: integer (nullable = true)\n",
            " |-- Nombre departamento: string (nullable = true)\n",
            " |-- Código DIVIPOLA municipio: integer (nullable = true)\n",
            " |-- Nombre municipio: string (nullable = true)\n",
            " |-- Edad: integer (nullable = true)\n",
            " |-- Unidad de medida de edad: integer (nullable = true)\n",
            " |-- Sexo: string (nullable = true)\n",
            " |-- Tipo de contagio: string (nullable = true)\n",
            " |-- Ubicación del caso: string (nullable = true)\n",
            " |-- Estado: string (nullable = true)\n",
            " |-- Código ISO del país: integer (nullable = true)\n",
            " |-- Nombre del país: string (nullable = true)\n",
            " |-- Recuperado: string (nullable = true)\n",
            " |-- Fecha de inicio de síntomas: string (nullable = true)\n",
            " |-- Fecha de muerte: string (nullable = true)\n",
            " |-- Fecha de diagnóstico: string (nullable = true)\n",
            " |-- Fecha de recuperación: string (nullable = true)\n",
            " |-- Tipo de recuperación: string (nullable = true)\n",
            " |-- Pertenencia étnica: integer (nullable = true)\n",
            " |-- Nombre del grupo étnico: string (nullable = true)\n",
            "\n"
          ]
        }
      ]
    },
    {
      "cell_type": "code",
      "source": [
        "df.filter(df['Nombre municipio']=='CUMBAL').select('ID de caso','Nombre municipio','Edad','Sexo').show(10)"
      ],
      "metadata": {
        "colab": {
          "base_uri": "https://localhost:8080/"
        },
        "id": "zEK-NDNdphA9",
        "outputId": "adfc3610-76ac-40d4-91f7-54a8702a8e93"
      },
      "execution_count": 22,
      "outputs": [
        {
          "output_type": "stream",
          "name": "stdout",
          "text": [
            "+----------+----------------+----+----+\n",
            "|ID de caso|Nombre municipio|Edad|Sexo|\n",
            "+----------+----------------+----+----+\n",
            "|   1851419|          CUMBAL|  24|   M|\n",
            "|   1851420|          CUMBAL|  24|   M|\n",
            "|    964420|          CUMBAL|  80|   F|\n",
            "|   1849961|          CUMBAL|  94|   F|\n",
            "|   1849985|          CUMBAL|  64|   F|\n",
            "|   1852244|          CUMBAL|  36|   M|\n",
            "|   2055895|          CUMBAL|  59|   M|\n",
            "|   1850626|          CUMBAL|  26|   F|\n",
            "|   1850716|          CUMBAL|  33|   M|\n",
            "|   1850717|          CUMBAL|  32|   F|\n",
            "+----------+----------------+----+----+\n",
            "only showing top 10 rows\n",
            "\n"
          ]
        }
      ]
    },
    {
      "cell_type": "code",
      "source": [
        "# UDF\n",
        "from pyspark.sql.functions import udf\n",
        "from pyspark.sql.types import StringType\n",
        "#normal function \n",
        "def mayorDeEdad(edad):\n",
        "    if edad >= 18:\n",
        "        return 'Mayor de edad'\n",
        "    else:\n",
        "        return 'Menor de edad'\n",
        "\n",
        "#create udf using python function\n",
        "edad_udf=udf(mayorDeEdad,StringType())\n",
        "#apply udf on dataframe\n",
        "df.withColumn('Mayor de edad?',edad_udf(df['Edad'])).select('ID de caso','Nombre municipio','Edad','Sexo', 'Mayor de edad?').show(10,False)"
      ],
      "metadata": {
        "colab": {
          "base_uri": "https://localhost:8080/"
        },
        "id": "WvKuPodiqPJG",
        "outputId": "b902b59a-4bc2-45f6-e7f5-4a465bca035d"
      },
      "execution_count": 28,
      "outputs": [
        {
          "output_type": "stream",
          "name": "stdout",
          "text": [
            "+----------+----------------+----+----+--------------+\n",
            "|ID de caso|Nombre municipio|Edad|Sexo|Mayor de edad?|\n",
            "+----------+----------------+----+----+--------------+\n",
            "|2265685   |BOGOTA          |49  |M   |Mayor de edad |\n",
            "|2265686   |BOGOTA          |49  |M   |Mayor de edad |\n",
            "|2265687   |BOGOTA          |51  |F   |Mayor de edad |\n",
            "|2265688   |BOGOTA          |51  |F   |Mayor de edad |\n",
            "|2265689   |BOGOTA          |51  |F   |Mayor de edad |\n",
            "|2265690   |BOGOTA          |52  |F   |Mayor de edad |\n",
            "|1851419   |CUMBAL          |24  |M   |Mayor de edad |\n",
            "|1851420   |CUMBAL          |24  |M   |Mayor de edad |\n",
            "|1851421   |GUACHUCAL       |33  |M   |Mayor de edad |\n",
            "|1851422   |LA CRUZ         |35  |F   |Mayor de edad |\n",
            "+----------+----------------+----+----+--------------+\n",
            "only showing top 10 rows\n",
            "\n"
          ]
        }
      ]
    },
    {
      "cell_type": "code",
      "source": [
        "data = df.groupBy('Nombre departamento').count().orderBy('count',ascending=False)\n",
        "write_uri='gdrive/MyDrive/st0263trabajo3/outputs/3.1'\n",
        "data.coalesce(1).write.format(\"csv\").option(\"header\",\"true\").save(write_uri)"
      ],
      "metadata": {
        "id": "6-sMAsPms0WD"
      },
      "execution_count": 58,
      "outputs": []
    },
    {
      "cell_type": "code",
      "source": [
        "data = df.groupBy('Nombre municipio').count().orderBy('count',ascending=False)\n",
        "write_uri='gdrive/MyDrive/st0263trabajo3/outputs/3.2'\n",
        "data.coalesce(1).write.format(\"csv\").option(\"header\",\"true\").save(write_uri)"
      ],
      "metadata": {
        "id": "TMIJJYiRtFWS"
      },
      "execution_count": 59,
      "outputs": []
    },
    {
      "cell_type": "code",
      "source": [
        "data = df.groupBy('Fecha de diagnóstico').count().orderBy('count',ascending=False)\n",
        "write_uri='gdrive/MyDrive/st0263trabajo3/outputs/3.3'\n",
        "data.coalesce(1).write.format(\"csv\").option(\"header\",\"true\").save(write_uri)"
      ],
      "metadata": {
        "id": "s29jX6gmtcca"
      },
      "execution_count": 60,
      "outputs": []
    },
    {
      "cell_type": "code",
      "source": [
        "data = df.groupBy('Edad').count().orderBy('count',ascending=False)\n",
        "write_uri='gdrive/MyDrive/st0263trabajo3/outputs/3.4'\n",
        "data.coalesce(1).write.format(\"csv\").option(\"header\",\"true\").save(write_uri)"
      ],
      "metadata": {
        "id": "jDMDY1bcuENa"
      },
      "execution_count": 61,
      "outputs": []
    },
    {
      "cell_type": "code",
      "source": [
        "from pyspark.sql.functions import to_date, to_timestamp, month\n",
        "\n",
        "df.withColumn(\"Fecha de diagnóstico\",to_date(to_timestamp(\"Fecha de diagnóstico\")))\n",
        "data = df.groupBy(month('Fecha de diagnóstico').alias('mes')).count().orderBy('count',ascending=False)\n",
        "write_uri='gdrive/MyDrive/st0263trabajo3/outputs/3.5'\n",
        "data.coalesce(1).write.format(\"csv\").option(\"header\",\"true\").save(write_uri)"
      ],
      "metadata": {
        "id": "9FmpaazUukDm"
      },
      "execution_count": 63,
      "outputs": []
    },
    {
      "cell_type": "code",
      "source": [
        "muertos = df.filter(df['Fecha de muerte'] != 'null').count()\n",
        "total = df.count()\n",
        "porcentajeDefuncion = str(round((muertos/total)*100,2))+\"%\"\n",
        "porcentajeDefuncion"
      ],
      "metadata": {
        "colab": {
          "base_uri": "https://localhost:8080/",
          "height": 36
        },
        "id": "_bsEsXlexbIN",
        "outputId": "73f92cb0-0e4b-4543-9cad-52c7e3e6f11c"
      },
      "execution_count": 41,
      "outputs": [
        {
          "output_type": "execute_result",
          "data": {
            "text/plain": [
              "'2.77%'"
            ],
            "application/vnd.google.colaboratory.intrinsic+json": {
              "type": "string"
            }
          },
          "metadata": {},
          "execution_count": 41
        }
      ]
    }
  ]
}